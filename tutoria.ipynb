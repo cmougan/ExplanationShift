{
 "cells": [
  {
   "cell_type": "code",
   "execution_count": 1,
   "metadata": {},
   "outputs": [],
   "source": [
    "from sklearn.model_selection import train_test_split\n",
    "from sklearn.datasets import make_blobs\n",
    "from skshift import ExplanationShiftDetector\n",
    "from xgboost import XGBClassifier\n",
    "from sklearn.linear_model import LogisticRegression\n",
    "from sklearn.metrics import roc_auc_score\n",
    "import numpy as np"
   ]
  },
  {
   "cell_type": "code",
   "execution_count": 2,
   "metadata": {},
   "outputs": [],
   "source": [
    "# Create train, hold and test ID data\n",
    "X, y = make_blobs(n_samples=2000, centers=2, n_features=5, random_state=0)\n",
    "X_tr, X_te, y_tr, y_te = train_test_split(X, y, test_size=0.5, random_state=0)\n",
    "X_hold, y_hold = make_blobs(n_samples=2000, centers=2, n_features=5, random_state=0)\n",
    "\n",
    "# Create OOD data\n",
    "X_ood, _ = make_blobs(n_samples=500, centers=1, n_features=5, random_state=0)\n",
    "X_ood_te, y_ood_te = make_blobs(n_samples=500, centers=1, n_features=5, random_state=1)\n",
    "\n",
    "# Concatenate Distributions\n",
    "y_te = np.zeros_like(y_te)\n",
    "y_ood_te = np.ones_like(y_ood_te)\n",
    "X_new = np.concatenate([X_te, X_ood_te])\n",
    "y_new = np.concatenate([y_te, y_ood_te])"
   ]
  },
  {
   "cell_type": "code",
   "execution_count": 3,
   "metadata": {},
   "outputs": [
    {
     "name": "stderr",
     "output_type": "stream",
     "text": [
      "ntree_limit is deprecated, use `iteration_range` or model slicing instead.\n",
      "ntree_limit is deprecated, use `iteration_range` or model slicing instead.\n",
      "ntree_limit is deprecated, use `iteration_range` or model slicing instead.\n"
     ]
    },
    {
     "data": {
      "text/plain": [
       "0.7424999999999999"
      ]
     },
     "execution_count": 3,
     "metadata": {},
     "output_type": "execute_result"
    }
   ],
   "source": [
    "#  Fit model\n",
    "model = XGBClassifier()\n",
    "model.fit(X_tr, y_tr)\n",
    "\n",
    "# Fit Detector\n",
    "detector = ExplanationShiftDetector(model=model, gmodel=LogisticRegression())\n",
    "detector.fit_detector(X_te, X_ood)\n",
    "\n",
    "# Evaluate\n",
    "roc_auc_score(y_new, detector.predict_proba(X_new)[:, 1])"
   ]
  },
  {
   "cell_type": "code",
   "execution_count": 7,
   "metadata": {},
   "outputs": [
    {
     "data": {
      "text/plain": [
       "array([[ 0.        , -0.02238227,  0.        , -0.72423062,  0.        ]])"
      ]
     },
     "execution_count": 7,
     "metadata": {},
     "output_type": "execute_result"
    }
   ],
   "source": [
    "detector.detector.coef_"
   ]
  },
  {
   "cell_type": "code",
   "execution_count": null,
   "metadata": {},
   "outputs": [],
   "source": []
  }
 ],
 "metadata": {
  "kernelspec": {
   "display_name": "shift",
   "language": "python",
   "name": "python3"
  },
  "language_info": {
   "codemirror_mode": {
    "name": "ipython",
    "version": 3
   },
   "file_extension": ".py",
   "mimetype": "text/x-python",
   "name": "python",
   "nbconvert_exporter": "python",
   "pygments_lexer": "ipython3",
   "version": "3.9.16"
  },
  "orig_nbformat": 4
 },
 "nbformat": 4,
 "nbformat_minor": 2
}
